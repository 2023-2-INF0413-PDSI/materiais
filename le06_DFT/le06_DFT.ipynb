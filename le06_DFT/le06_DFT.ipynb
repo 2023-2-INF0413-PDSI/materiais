{
 "cells": [
  {
   "cell_type": "markdown",
   "id": "7a34216f",
   "metadata": {},
   "source": [
    "# Transformada Discreta de Fourier\n",
    "Aldo André Díaz Salazar, PhD, EE\n",
    "\n",
    "## Objetivos\n",
    "Nesta aula aprenderemos a implementar de forma prática a Transformada Discreta de Fourier (DFT), o principal algoritmo de Processamento Digital de Sinais para a extração de informações em sinais.\n",
    "\n",
    "Para começar, precisamos lembrar da DFT nas suas três principais interpretações:\n",
    "1. Como um sinal\n",
    "2. Como uma operação de produto interno\n",
    "3. Como uma operação de produto matriz x vetor"
   ]
  },
  {
   "cell_type": "code",
   "execution_count": null,
   "id": "69fe9677",
   "metadata": {},
   "outputs": [],
   "source": [
    "import numpy as np\n",
    "import matplotlib.pyplot as plt\n",
    "import sys\n",
    "sys.path.append('/mnt/g/My Drive/!UFG/01_ensino/digital-signal-processing/notebooks/lib/')\n",
    "from myPlotLib import *"
   ]
  },
  {
   "cell_type": "code",
   "execution_count": null,
   "id": "627c620e",
   "metadata": {},
   "outputs": [],
   "source": [
    "plt.rcParams.update({\n",
    "    'figure.figsize':    (6, 2), # figure size\n",
    "    'figure.facecolor':  (0.0, 0.0, 0.0, 0.0), # black with alpha = 0%\n",
    "    'axes.facecolor':    (0.0, 0.0, 0.0, 0.0), # black with alpha = 0%\n",
    "    'savefig.facecolor': (0.0, 0.0, 0.0, 0.0), # black  with alpha = 0%\n",
    "})"
   ]
  },
  {
   "cell_type": "markdown",
   "id": "112ddcd8",
   "metadata": {},
   "source": [
    "## DFT - Análise\n",
    "- DFTv1: DFT implementada como sinal (laço duplo)\n",
    "- DFTv2: DFT implementada como produto interno (laço único)\n",
    "- DFTv3: DFT implementada como produto matriz x vetor (sem laços)"
   ]
  },
  {
   "cell_type": "code",
   "execution_count": null,
   "id": "6ce85555",
   "metadata": {},
   "outputs": [],
   "source": [
    "# Transformada Discreta de Fourier (DFT)\n",
    "def myDFT(x, versao='v3'):\n",
    "    if versao == 'v1':\n",
    "        '''\n",
    "           versao 1.0 - DFT como sinal ponto a ponto\n",
    "        '''\n",
    "       ...\n",
    "\n",
    "    if versao == 'v2':\n",
    "        '''\n",
    "           versao 2.0 - DFT como produto interno\n",
    "        '''\n",
    "        ...       \n",
    "\n",
    "    if versao == 'v3':\n",
    "        '''\n",
    "           versao 3.0 - DFT como produto matrix vetor\n",
    "        '''\n",
    "        ...\n",
    "    \n",
    "    if versao == 'np':\n",
    "        '''\n",
    "           versao 4.0 - Numpy\n",
    "        '''\n",
    "        ...\n",
    "        \n",
    "    return X"
   ]
  },
  {
   "cell_type": "markdown",
   "id": "8df8e148",
   "metadata": {},
   "source": [
    "# DFT - Síntese\n",
    "- iDFTv1: iDFT implementada como sinal (laço duplo)\n",
    "- iDFTv2: iDFT implementada como produto interno (laço único)\n",
    "- iDFTv3: iDFT implementada como produto matriz x vetor (sem laços)"
   ]
  },
  {
   "cell_type": "code",
   "execution_count": null,
   "id": "4c6ad8bf",
   "metadata": {},
   "outputs": [],
   "source": [
    "# Inversa da Transformada Discreta de Fourier (IDFT)\n",
    "def myiDFT(X, versao='v3'):\n",
    "    if versao == 'v1':\n",
    "        '''\n",
    "           versao 1.0 - iDFT como sinal ponto a ponto\n",
    "        '''\n",
    "        ...\n",
    "\n",
    "    if versao == 'v2':\n",
    "        '''\n",
    "           versao 2.0 - iDFT como produto interno\n",
    "        '''\n",
    "        ...\n",
    "    \n",
    "    if versao == 'v3':\n",
    "        '''\n",
    "           versao 3.0 - iDFT como produto matriz vetor\n",
    "        '''\n",
    "        ...\n",
    "        \n",
    "    if versao == 'np':\n",
    "        '''\n",
    "           versao 4.0 - Numpy\n",
    "        '''\n",
    "        ...\n",
    "    \n",
    "    return x"
   ]
  },
  {
   "cell_type": "markdown",
   "id": "ed241ec6",
   "metadata": {},
   "source": [
    "# Exemplos\n",
    "Para análise, estudemos alguns exemplos da DFT aplicada em sinais bem conhecidos por nós:\n",
    "1. d[n]: Sinal delta (impulso unitário)\n",
    "2. u[n]: Sinal degrau (step)\n",
    "3. sin(w*n): Sinal oscilatório sem fase\n",
    "3. sin(w*n + phi): Sinal oscilatório com fase"
   ]
  },
  {
   "cell_type": "code",
   "execution_count": null,
   "id": "fa4d49d1",
   "metadata": {},
   "outputs": [],
   "source": [
    "# Sinal delta (impulso unitário)\n",
    "N = 16\n",
    "x1 = [1] * 1 + [0] * (N-1) # x1 = np.zeros(N); x1[0] = 1\n",
    "n = np.arange(N)\n",
    "\n",
    "fig, ax = plt.subplots()\n",
    "plt.stem(n, x1, markerfmt='ro', linefmt='c')\n",
    "plt.title(r'Sinal $\\delta[n]$')\n",
    "figureFormat(ax, fig)"
   ]
  },
  {
   "cell_type": "code",
   "execution_count": null,
   "id": "c04e1483",
   "metadata": {},
   "outputs": [],
   "source": [
    "# X1 = myDFT(x1, 'v1')\n",
    "# X1 = myDFT(x1, 'v2')\n",
    "X1 = myDFT(x1, 'v3')\n",
    "\n",
    "# Sintese do sinal\n",
    "x1hat = myiDFT(X1, 'v3')\n",
    "\n",
    "# Diferença entre sinal de entrada e sintetisado\n",
    "print('Diferença entre x[n] e x_hat[n]:\\n', x1 - x1hat)\n",
    "\n",
    "fig, ax = plt.subplots()\n",
    "plt.stem(n, X1.real, markerfmt='ro', linefmt='c')\n",
    "plt.title(r'Espectro de $\\delta[n]$')\n",
    "figureFormat(ax, fig)\n",
    "\n",
    "fig, ax = plt.subplots()\n",
    "plt.stem(n, x1hat, markerfmt='ro', linefmt='c')\n",
    "plt.title(r'Sinal sintetizado $\\hat{\\delta}[n]$')\n",
    "figureFormat(ax, fig)"
   ]
  },
  {
   "cell_type": "code",
   "execution_count": null,
   "id": "f9a0c7cd",
   "metadata": {},
   "outputs": [],
   "source": [
    "# Sinal degrau (u[n])\n",
    "x2 = [1] * N # np.ones(N)\n",
    "\n",
    "fig, ax = plt.subplots()\n",
    "plt.stem(n, x2, markerfmt='ro', linefmt='c')\n",
    "plt.title(r'Sinal $u[n]$')\n",
    "figureFormat(ax, fig)"
   ]
  },
  {
   "cell_type": "code",
   "execution_count": null,
   "id": "118ceff6",
   "metadata": {},
   "outputs": [],
   "source": [
    "# X2 = myDFT(x2, 'v1')\n",
    "# X2 = myDFT(x2, 'v2')\n",
    "X2 = myDFT(x2, 'v3')\n",
    "\n",
    "# Sintese do sinal\n",
    "x2hat = myiDFT(X2, 'v3')\n",
    "\n",
    "# Diferença entre sinal de entrada e sintetisado\n",
    "print('Diferença entre x[n] e x_hat[n]:\\n', x2 - x2hat)\n",
    "\n",
    "fig, ax = plt.subplots()\n",
    "plt.stem(n, X2.real, markerfmt='ro', linefmt='c')\n",
    "plt.title(r'Espectro de $u[n]$')\n",
    "figureFormat(ax, fig)\n",
    "\n",
    "fig, ax = plt.subplots()\n",
    "plt.stem(n, x2hat, markerfmt='ro', linefmt='c')\n",
    "plt.title(r'Sinal sintetizado $\\hat{u}[n]$')\n",
    "figureFormat(ax, fig)"
   ]
  },
  {
   "cell_type": "code",
   "execution_count": null,
   "id": "f2563953",
   "metadata": {},
   "outputs": [],
   "source": [
    "# Sinal oscilatorio x[n] = sin(w0 * n)\n",
    "P = 16 # Período do sinal\n",
    "phi = 0 # Fase\n",
    "N = 64 # Comprimento do sinal\n",
    "n = np.arange(N)\n",
    "x3 = 3*np.cos((2*np.pi / P) * n + phi)\n",
    "\n",
    "fig, ax = plt.subplots()\n",
    "plt.stem(n, x3, markerfmt='ro', linefmt='c')\n",
    "plt.title(r'Sinal $\\sin(\\omega n + \\phi)$, $\\omega=2\\pi / %i$, $\\phi = %.f$ (rad)' % (P, phi))\n",
    "figureFormat(ax, fig)"
   ]
  },
  {
   "cell_type": "code",
   "execution_count": null,
   "id": "192ff93d",
   "metadata": {},
   "outputs": [],
   "source": [
    "x3hat = myiDFT(X3, 'np')"
   ]
  },
  {
   "cell_type": "code",
   "execution_count": null,
   "id": "f9a4e48e",
   "metadata": {},
   "outputs": [],
   "source": [
    "# X3 = myDFT(x3, 'v1')\n",
    "# X3 = myDFT(x3, 'v2')\n",
    "X3 = myDFT(x3, 'v3')\n",
    "\n",
    "# Sintese do sinal\n",
    "x3hat = myiDFT(X3, 'v3')\n",
    "\n",
    "# Diferença entre sinal de entrada e sintetisado\n",
    "print('Diferença entre x[n] e x_hat[n]:\\n', x3 - x3hat)\n",
    "\n",
    "fig, ax = plt.subplots()\n",
    "plt.stem(n, X3.real, markerfmt='ro', linefmt='c')\n",
    "plt.title(r'Espectro de $\\sin(\\omega n + \\phi)$')\n",
    "plt.ylabel(r'Re{$X_3$}')\n",
    "figureFormat(ax, fig)\n",
    "\n",
    "fig, ax = plt.subplots()\n",
    "plt.stem(n, X3.imag, markerfmt='ro', linefmt='c')\n",
    "plt.title(r'Espectro de $\\sin(\\omega n + \\phi)$')\n",
    "plt.ylabel(r'Im{$X_3$}')\n",
    "plt.ylim([-1, 1])\n",
    "figureFormat(ax, fig)\n",
    "\n",
    "fig, ax = plt.subplots()\n",
    "plt.stem(n, x3hat, markerfmt='ro', linefmt='c')\n",
    "plt.title(r'Sinal sintetizado $\\hat{\\sin(\\omega n + \\phi)}$')\n",
    "figureFormat(ax, fig)"
   ]
  },
  {
   "cell_type": "code",
   "execution_count": null,
   "id": "67086559",
   "metadata": {},
   "outputs": [],
   "source": [
    "# Sinal oscilatorio com fase x[n] = sin(w0 * n + phi)\n",
    "phi = np.pi / 3 # Fase\n",
    "x4 = 3*np.cos((2*np.pi / P) * n + phi)\n",
    "\n",
    "fig, ax = plt.subplots()\n",
    "plt.stem(n, x4, markerfmt='ro', linefmt='c')\n",
    "plt.title(r'Sinal $\\sin(\\omega n + \\phi)$, $\\omega=2\\pi / %i$, $\\phi = %.2f$ (rad)' % (P, phi))\n",
    "figureFormat(ax, fig)"
   ]
  },
  {
   "cell_type": "code",
   "execution_count": null,
   "id": "0120479a",
   "metadata": {},
   "outputs": [],
   "source": [
    "# X4 = myDFT(x4, 'v1')\n",
    "# X4 = myDFT(x4, 'v2')\n",
    "X4 = myDFT(x4, 'v3')\n",
    "\n",
    "# Sintese do sinal\n",
    "x4hat = myiDFT(X4, 'v3')\n",
    "\n",
    "# Diferença entre sinal de entrada e sintetisado\n",
    "print('Diferença entre x[n] e x_hat[n]:\\n', x4 - x4hat)\n",
    "\n",
    "fig, ax = plt.subplots()\n",
    "plt.stem(n, X4.real, markerfmt='ro', linefmt='c')\n",
    "plt.title(r'Espectro de $\\sin(\\omega n + \\phi)$')\n",
    "plt.ylabel(r'Re{$X_4$}')\n",
    "figureFormat(ax, fig)\n",
    "\n",
    "fig, ax = plt.subplots()\n",
    "plt.stem(n, X4.imag, markerfmt='ro', linefmt='c')\n",
    "plt.title(r'Espectro de $\\sin(\\omega n + \\phi)$')\n",
    "plt.ylabel(r'Im{$X_4$}')\n",
    "figureFormat(ax, fig)\n",
    "\n",
    "fig, ax = plt.subplots()\n",
    "plt.stem(n, x4hat, markerfmt='ro', linefmt='c')\n",
    "plt.title(r'Sinal sintetizado $\\hat{\\sin(\\omega n + \\phi)}$')\n",
    "figureFormat(ax, fig)"
   ]
  },
  {
   "cell_type": "markdown",
   "id": "a656573b",
   "metadata": {},
   "source": [
    "## Diagramas de Magnitude e Fase\n",
    "Além dos diagramas do espectro puro (componentes real e imaginária),\n",
    "são também de muita utilidade os diagramas de MAGNITUDE e FASE.\n",
    "\n",
    "Estes diagramas permitirão extrair informações relevantes do sinal.\n",
    "\n",
    "Em sinais oscilatórios, será possível extrair diretamente a amplitude e fase\n",
    "a partir destes diagramas."
   ]
  },
  {
   "cell_type": "code",
   "execution_count": null,
   "id": "f2f2c843",
   "metadata": {},
   "outputs": [],
   "source": [
    "def DFTmagnitude(sinal):\n",
    "    '''\n",
    "       Magnitude da DFT\n",
    "    '''\n",
    "    ...\n",
    "\n",
    "def DFTfase(sinal):\n",
    "    '''\n",
    "       Fase da DFT\n",
    "    '''\n",
    "    ..."
   ]
  },
  {
   "cell_type": "code",
   "execution_count": null,
   "id": "d25c2799",
   "metadata": {},
   "outputs": [],
   "source": [
    "X4magn = DFTmagnitude(X4)\n",
    "X4fase = DFTfase(X4)\n",
    "\n",
    "print(X4magn, X4fase)\n",
    "\n",
    "fig, ax = plt.subplots()\n",
    "plt.stem(n, X4magn, markerfmt='ro', linefmt='c')\n",
    "plt.title('Magnitude DFT')\n",
    "plt.ylabel(r'$|X_4|$')\n",
    "figureFormat(ax, fig)\n",
    "\n",
    "fig, ax = plt.subplots()\n",
    "plt.stem(n, X4fase, markerfmt='ro', linefmt='c')\n",
    "plt.title('Fase DFT')\n",
    "plt.ylabel(r'$\\angle X_4$')\n",
    "plt.ylim([-np.pi, np.pi])\n",
    "plt.yticks([-np.pi, -np.pi/3, 0, np.pi/3, np.pi], [r'$-\\pi$', r'$-\\pi/3$', 0, r'$\\pi/3$', r'$\\pi$'])\n",
    "figureFormat(ax, fig)"
   ]
  },
  {
   "cell_type": "markdown",
   "id": "38f4195f",
   "metadata": {},
   "source": [
    "# Erros de arredondamento\n",
    "Por quê o gráfico da fase não resultou ser conforme esperávamos?\n",
    "\n",
    "Compare o resultado teórico da DFT com o prático para o sinal anterior.\n",
    "Quais as diferenças?\n",
    "\n",
    "Pense numa maneira de poder contornar esta situação."
   ]
  },
  {
   "cell_type": "code",
   "execution_count": null,
   "id": "46064b60",
   "metadata": {},
   "outputs": [],
   "source": [
    "def COMPLEXOesparcificar(sinal, tol=1e-12):\n",
    "    '''\n",
    "       Corrige erros de arredondamento antes do computo\n",
    "       de magnitude e fase da DFT, zerando os elementos\n",
    "       menores que um certo valor de tolerancia\n",
    "    '''\n",
    "    aux = sinal.copy() # Sinal auxiliar\n",
    "    \n",
    "    \n",
    "    return aux"
   ]
  },
  {
   "cell_type": "code",
   "execution_count": null,
   "id": "7756e5c2",
   "metadata": {},
   "outputs": [],
   "source": [
    "X4magn = DFTmagnitude(COMPLEXOesparcificar(X4))\n",
    "X4fase = DFTfase(COMPLEXOesparcificar(X4))\n",
    "\n",
    "fig, ax = plt.subplots()\n",
    "plt.stem(n, X4magn, markerfmt='ro', linefmt='c')\n",
    "plt.title('Magnitude DFT')\n",
    "plt.ylabel(r'$|X_4|$')\n",
    "figureFormat(ax, fig)\n",
    "\n",
    "fig, ax = plt.subplots()\n",
    "plt.stem(n, X4fase, markerfmt='ro', linefmt='c')\n",
    "plt.title('Fase DFT')\n",
    "plt.ylabel(r'$\\angle X_4$')\n",
    "plt.ylim([-np.pi, np.pi])\n",
    "plt.yticks([-np.pi, -np.pi/3, 0, np.pi/3, np.pi], [r'$-\\pi$', r'$-\\pi/3$', 0, r'$\\pi/3$', r'$\\pi$'])\n",
    "figureFormat(ax, fig)"
   ]
  },
  {
   "cell_type": "markdown",
   "id": "0c6c56db",
   "metadata": {},
   "source": [
    "# Perguntas\n",
    "1. É sempre \"seguro\" aplicar esparcificação no resultado da DFT?\n",
    "\n",
    "2. Em casos é garantido aplicar esparcificação sem temor ao erro?"
   ]
  },
  {
   "cell_type": "code",
   "execution_count": null,
   "id": "cf57784f",
   "metadata": {},
   "outputs": [],
   "source": [
    "# Aqui sua resposta"
   ]
  },
  {
   "cell_type": "code",
   "execution_count": null,
   "id": "45abc5f1",
   "metadata": {},
   "outputs": [],
   "source": []
  }
 ],
 "metadata": {
  "kernelspec": {
   "display_name": "Python 3 (ipykernel)",
   "language": "python",
   "name": "python3"
  },
  "language_info": {
   "codemirror_mode": {
    "name": "ipython",
    "version": 3
   },
   "file_extension": ".py",
   "mimetype": "text/x-python",
   "name": "python",
   "nbconvert_exporter": "python",
   "pygments_lexer": "ipython3",
   "version": "3.10.6"
  }
 },
 "nbformat": 4,
 "nbformat_minor": 5
}
