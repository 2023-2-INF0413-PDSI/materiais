{
 "cells": [
  {
   "cell_type": "markdown",
   "id": "8de3c52d",
   "metadata": {},
   "source": [
    "# Aula02 - Teorema de amostragem\n",
    "\n",
    "Neste notebook trabalharemos na demonstração prática do Teorema da Amostragem."
   ]
  },
  {
   "cell_type": "code",
   "execution_count": null,
   "id": "27acda5f",
   "metadata": {},
   "outputs": [],
   "source": [
    "import numpy as np\n",
    "import matplotlib.pyplot as plt\n",
    "from IPython import display"
   ]
  },
  {
   "cell_type": "code",
   "execution_count": null,
   "id": "da6e96f3",
   "metadata": {},
   "outputs": [],
   "source": [
    "# Demostracao do Teorema da amostragem\n",
    "# Sinal analogico simulado\n",
    "ti = 1e-12 # tempo inicial (liberando a singularidade para x=0 em sinc(x) / x)\n",
    "tf = 10  # tempo final\n",
    "Na = 1000 # Numero de amostras do sinal analogico\n",
    "f = Na / (tf - ti) # frequencia de amostragem do sinal analogico\n",
    "T = 1. / f # tempo de amostragem do sinal analogico\n",
    "\n",
    "t = np.linspace(ti, tf, Na)\n",
    "y = 80*t - 0.5*9.8*t**2\n",
    "\n",
    "# Sinal digital (amostrado apartir do original)\n",
    "fs = 10 # frequencia de amostragem\n",
    "Ts = 1. / fs # tempo de amostragem\n",
    "\n",
    "Nd = int(f / fs)\n",
    "yn = y[0: -1: Nd]\n",
    "n = np.arange(len(yn))\n",
    "\n",
    "# Plot interativo\n",
    "fig, ax = plt.subplots()\n",
    "\n",
    "x = np.zeros(len(t))\n",
    "for tt in range(len(t)):\n",
    "    for nn in n:\n",
    "        x[tt] += yn[nn] * np.sin((tt - nn*Ts) / Ts) / ((tt - nn*Ts) / Ts)\n",
    "        \n",
    "        ax.set_xlim(t[0], t[-1])\n",
    "        ax.cla()\n",
    "        ax.plot(t, x, 'b')\n",
    "        display.display(fig)\n",
    "        display.clear_output(wait = True)\n",
    "#         plt.pause(0.1)"
   ]
  },
  {
   "cell_type": "code",
   "execution_count": null,
   "id": "a95929a0",
   "metadata": {},
   "outputs": [],
   "source": [
    "# Plot sinal analógico \n",
    "fig, ax = plt.subplots()\n",
    "ax.plot(t, y)\n",
    "plt.show()\n",
    "\n",
    "# Plot sinal reconstruído\n",
    "fig, ax = plt.subplots()\n",
    "ax.plot(t, x)\n",
    "ax.set_xlim(0, t[-1])\n",
    "plt.show()"
   ]
  },
  {
   "cell_type": "code",
   "execution_count": null,
   "id": "b58fb5f8",
   "metadata": {},
   "outputs": [],
   "source": [
    "# Referencias\n",
    "# https://pythonguides.com/matplotlib-update-plot-in-loop/"
   ]
  }
 ],
 "metadata": {
  "kernelspec": {
   "display_name": "Python 3 (ipykernel)",
   "language": "python",
   "name": "python3"
  },
  "language_info": {
   "codemirror_mode": {
    "name": "ipython",
    "version": 3
   },
   "file_extension": ".py",
   "mimetype": "text/x-python",
   "name": "python",
   "nbconvert_exporter": "python",
   "pygments_lexer": "ipython3",
   "version": "3.10.6"
  }
 },
 "nbformat": 4,
 "nbformat_minor": 5
}
