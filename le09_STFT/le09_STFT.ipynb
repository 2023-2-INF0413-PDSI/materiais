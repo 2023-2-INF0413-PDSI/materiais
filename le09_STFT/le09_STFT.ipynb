{
 "cells": [
  {
   "cell_type": "code",
   "execution_count": null,
   "id": "8aeb7b26",
   "metadata": {},
   "outputs": [],
   "source": [
    "import numpy as np\n",
    "import scipy.signal as signal\n",
    "import matplotlib.pyplot as plt\n",
    "from IPython.display import Audio\n",
    "import librosa"
   ]
  },
  {
   "cell_type": "code",
   "execution_count": null,
   "id": "687affc3",
   "metadata": {},
   "outputs": [],
   "source": [
    "def play(x, fs=None):\n",
    "    display(Audio(data=x, rate=fs))\n",
    "\n",
    "def stft_basic(x, w, H=8, only_positive_frequencies=False):\n",
    "    '''\n",
    "    Compute a basic version of the discrete short-time Fourier transform (STFT)\n",
    "    Source: https://www.audiolabs-erlangen.de/resources/MIR/FMP/C2/C2_STFT-Basic.html\n",
    "\n",
    "    Args:\n",
    "        x (np.ndarray): Signal to be transformed\n",
    "        w (np.ndarray): Window function\n",
    "        H (int): Hopsize (Default value = 8)\n",
    "        only_positive_frequencies (bool): Return only positive frequency part of spectrum (non-invertible)\n",
    "            (Default value = False)\n",
    "\n",
    "    Returns:\n",
    "        X (np.ndarray): The discrete short-time Fourier transform\n",
    "    '''\n",
    "    N = len(w)\n",
    "    L = len(x)\n",
    "    M = np.floor((L - N) / H).astype(int) + 1\n",
    "    X = np.zeros((N, M), dtype='complex')\n",
    "    for m in range(M):\n",
    "        x_win = x[m*H : m*H + N] * w\n",
    "        X_win = np.fft.fft(x_win)\n",
    "        X[:, m] = X_win\n",
    "\n",
    "    if only_positive_frequencies:\n",
    "        K = N // 2 if N % 2 == 0 else N // 2 + 1 # If N is odd return N/2 + 1 points\n",
    "        X = X[0:K, :]\n",
    "        \n",
    "    return X"
   ]
  },
  {
   "cell_type": "code",
   "execution_count": null,
   "id": "dc2b74cc",
   "metadata": {},
   "outputs": [],
   "source": [
    "# Chirp signal\n",
    "dt = 1e-3\n",
    "t = np.arange(0, 2, dt)\n",
    "f0 = 50\n",
    "f1 = 250\n",
    "t1 = 2\n",
    "x = np.cos(2*np.pi*t*(f0 + (f1-f0)*np.power(t, 2)/(3*t1**2)))"
   ]
  },
  {
   "cell_type": "code",
   "execution_count": null,
   "id": "4aa46efd",
   "metadata": {},
   "outputs": [],
   "source": [
    "play(x, 5512)"
   ]
  },
  {
   "cell_type": "markdown",
   "id": "3ceaa493",
   "metadata": {},
   "source": [
    "## Espectro\n",
    "Plote o espectro de magnitude do sinal chirp.\n",
    "\n",
    "Analise: O que o gráfico tem a lhe dizer?\n",
    "\n",
    "Exemplo:\n",
    "<img src='chirp-spectrum.png' width='500'/>"
   ]
  },
  {
   "cell_type": "code",
   "execution_count": null,
   "id": "ae3cd769",
   "metadata": {},
   "outputs": [],
   "source": [
    "# Aqui sua resposta"
   ]
  },
  {
   "cell_type": "markdown",
   "id": "5b59b217",
   "metadata": {},
   "source": [
    "## Espectrograma\n",
    "A ferramenta `pyplot` do `matplotlib` incorpora uma função pronta para o gráfico de espectrogramas.\n",
    "\n",
    "Estude a função [`specgram`](https://matplotlib.org/stable/api/_as_gen/matplotlib.pyplot.specgram.html) para conseguir plotar o espectrograma do sinal chirp, similar ao da figura embaixo.\n",
    "\n",
    "Analise: Que informações revela este outro gráfico sobre o sinal?\n",
    "\n",
    "<img src='specgram-pyplot.png' width='500'/>"
   ]
  },
  {
   "cell_type": "code",
   "execution_count": null,
   "id": "37c52601",
   "metadata": {},
   "outputs": [],
   "source": [
    "# Pypot \"specgram\" docs:\n",
    "# https://matplotlib.org/stable/api/_as_gen/matplotlib.pyplot.specgram.html\n",
    "\n",
    "fig, ax = plt.subplots(figsize=(6, 4))\n",
    "plt.specgram(x, NFFT=..., Fs=..., noverlap=..., cmap='jet')\n",
    "plt.colorbar()"
   ]
  },
  {
   "cell_type": "markdown",
   "id": "9571c111",
   "metadata": {},
   "source": [
    "Agora utilize a função `stft_basic` para produzir o mesmo espectrograma.\n",
    "\n",
    "Compare os parâmetros de ambas as funções e explique as divergências."
   ]
  },
  {
   "cell_type": "code",
   "execution_count": null,
   "id": "9429e12e",
   "metadata": {},
   "outputs": [],
   "source": [
    "# Short-Time Fourier Transform\n",
    "X = stft_basic(...)"
   ]
  },
  {
   "cell_type": "code",
   "execution_count": null,
   "id": "5a0bb425",
   "metadata": {},
   "outputs": [],
   "source": [
    "fig, ax = plt.subplots(figsize=(6, 4))\n",
    "plt.imshow(X, origin='lower', aspect='auto', cmap='jet')\n",
    "plt.colorbar()"
   ]
  },
  {
   "cell_type": "markdown",
   "id": "fc2b399e",
   "metadata": {},
   "source": [
    "Perai! Os gráficos não batem... uhm, será que não é uma questão de escala?\n",
    "\n",
    "Utilize, uma resolução logarítmica para melhor visualizar o resultado.\n",
    "\n",
    "Explique: Como assim ajudou esta nova escala?"
   ]
  },
  {
   "cell_type": "code",
   "execution_count": null,
   "id": "4f71de7d",
   "metadata": {},
   "outputs": [],
   "source": [
    "# Aqui sua resposta"
   ]
  },
  {
   "cell_type": "markdown",
   "id": "f6add287",
   "metadata": {},
   "source": [
    "Agora deu certo! E veja que utilizamos o sinal chirp de cobaia para \"pintar\" uma STFT bonita.\n",
    "Modifique o sinal para umas outras faixas de frequencia, de maneira livre."
   ]
  },
  {
   "cell_type": "code",
   "execution_count": null,
   "id": "b298d586",
   "metadata": {},
   "outputs": [],
   "source": [
    "# Aqui sua resposta"
   ]
  },
  {
   "cell_type": "markdown",
   "id": "9104881d",
   "metadata": {},
   "source": [
    "## Super Mario Challenge\n",
    "Agora você recebeu um sinal misterioso, vamos ouvir ele ..."
   ]
  },
  {
   "cell_type": "code",
   "execution_count": null,
   "id": "f8e3eacc",
   "metadata": {},
   "outputs": [],
   "source": [
    "x, fs = librosa.load('../sounds/mario.wav', sr=44100)"
   ]
  },
  {
   "cell_type": "code",
   "execution_count": null,
   "id": "a10cc30e",
   "metadata": {},
   "outputs": [],
   "source": [
    "play(x, fs)"
   ]
  },
  {
   "cell_type": "markdown",
   "id": "2170dde9",
   "metadata": {},
   "source": [
    "Exquisito né? Mas agora, nos aprendimos a utilisar uma nova ferramenta para o análise de sinais, a STFT.\n",
    "\n",
    "Vamos usar ela para desmascarar o sinal?"
   ]
  },
  {
   "cell_type": "code",
   "execution_count": null,
   "id": "31b8d71a",
   "metadata": {},
   "outputs": [],
   "source": [
    "# Aqui sua resposta"
   ]
  },
  {
   "cell_type": "markdown",
   "id": "a78cc926",
   "metadata": {},
   "source": [
    "Uhm, nada de surpreendente...\n",
    "\n",
    "Defina parâmetros apropriados para o espectrograma que resultem no sinal a seguir:\n",
    "<img src='mario.png' width='350'/>"
   ]
  },
  {
   "cell_type": "code",
   "execution_count": null,
   "id": "0cad32f5",
   "metadata": {},
   "outputs": [],
   "source": [
    "plt.specgram(x, NFFT=..., Fs=..., noverlap=..., cmap='gist_heat')\n",
    "plt.show()"
   ]
  },
  {
   "cell_type": "markdown",
   "id": "91a821e4",
   "metadata": {},
   "source": [
    "Ufa! bateu saudades de jogar um Mário né!\n",
    "\n",
    "Mas agpra já sabemos que o espectrograma é uma IMAGEM, ou sinal 2D.\n",
    "\n",
    "E, como tal, ele também pode ser utilizado para ser explorado artísticamente!\n",
    "\n",
    "E também, com técnicas de processamento de imagem, que é o tema da nossa Terceira Unidade em PDSI :)"
   ]
  },
  {
   "cell_type": "code",
   "execution_count": null,
   "id": "6d1cf61b",
   "metadata": {},
   "outputs": [],
   "source": []
  }
 ],
 "metadata": {
  "kernelspec": {
   "display_name": "Python 3 (ipykernel)",
   "language": "python",
   "name": "python3"
  },
  "language_info": {
   "codemirror_mode": {
    "name": "ipython",
    "version": 3
   },
   "file_extension": ".py",
   "mimetype": "text/x-python",
   "name": "python",
   "nbconvert_exporter": "python",
   "pygments_lexer": "ipython3",
   "version": "3.10.6"
  }
 },
 "nbformat": 4,
 "nbformat_minor": 5
}
