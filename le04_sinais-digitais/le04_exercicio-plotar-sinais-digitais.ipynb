{
 "cells": [
  {
   "cell_type": "markdown",
   "id": "53f5f13c",
   "metadata": {},
   "source": [
    "# Sinais discretos\n",
    "Desafio: Plote os seguintes sinais discretos\n",
    "\n",
    "- $ y_1(t) = 2 \\sin(2\\pi f t) $\n",
    "- $ y_2(t) = \\sin(2\\pi f t) + \\sin(4\\pi f t) $\n",
    "- $ y_3(t) = \\frac{4}{\\pi} \\sin(2\\pi f t) + \\frac{4}{3\\pi} \\sin(6\\pi f t) $\n",
    "- $ y_4(t) = y_3(t) + \\frac{4}{5\\pi} \\sin(10\\pi f t) + \\frac{4}{7\\pi} \\sin(14\\pi f t) + \\frac{4}{9\\pi} \\sin(18\\pi f t) $"
   ]
  },
  {
   "cell_type": "markdown",
   "id": "27485a1b",
   "metadata": {},
   "source": [
    "# ![sines.png](sines.png)"
   ]
  },
  {
   "cell_type": "code",
   "execution_count": 4,
   "id": "7825e002",
   "metadata": {},
   "outputs": [],
   "source": [
    "import numpy as np\n",
    "import matplotlib.pyplot as plt"
   ]
  },
  {
   "cell_type": "code",
   "execution_count": null,
   "id": "71e2729d",
   "metadata": {},
   "outputs": [],
   "source": []
  },
  {
   "cell_type": "markdown",
   "id": "f85418d7",
   "metadata": {},
   "source": [
    "# Imagens\n",
    "\n",
    "Desafio:\n",
    "1. Pesquise a maneira de importar um vídeo no Python (o formato do vídeo a escolher é livre)\n",
    "2. Qual é a frequência de amostragem deste vídeo? Faz sentido?\n",
    "3. Pesquise a maneira de sintetizar o vídeo com uma frequencia de amostragem menor, o que acontece? e com uma frequencia maior?\n"
   ]
  },
  {
   "cell_type": "code",
   "execution_count": null,
   "id": "c4aaf583",
   "metadata": {},
   "outputs": [],
   "source": []
  }
 ],
 "metadata": {
  "kernelspec": {
   "display_name": "Python 3 (ipykernel)",
   "language": "python",
   "name": "python3"
  },
  "language_info": {
   "codemirror_mode": {
    "name": "ipython",
    "version": 3
   },
   "file_extension": ".py",
   "mimetype": "text/x-python",
   "name": "python",
   "nbconvert_exporter": "python",
   "pygments_lexer": "ipython3",
   "version": "3.10.6"
  }
 },
 "nbformat": 4,
 "nbformat_minor": 5
}
