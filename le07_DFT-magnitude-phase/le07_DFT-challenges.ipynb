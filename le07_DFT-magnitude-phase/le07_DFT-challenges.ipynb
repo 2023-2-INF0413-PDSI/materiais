{
 "cells": [
  {
   "cell_type": "markdown",
   "id": "76b0c2d0",
   "metadata": {},
   "source": [
    "# DFT - Challenges\n",
    "Aldo André Díaz Salazar, PhD, EE\n",
    "\n",
    "## Objetivo\n",
    "Neste Notebook iremos explorar a aplicação da DFT como algoritmo para a extração de informações relevantes presentes em sinais diversos."
   ]
  },
  {
   "cell_type": "code",
   "execution_count": null,
   "id": "52c7b657",
   "metadata": {},
   "outputs": [],
   "source": [
    "import numpy as np\n",
    "import matplotlib.pyplot as plt\n",
    "import sys\n",
    "sys.path.append('/mnt/g/My Drive/!UFG/01_ensino/digital-signal-processing/notebooks/lib/')\n",
    "from myFourierLib import *\n",
    "from myPlotLib import *"
   ]
  },
  {
   "cell_type": "code",
   "execution_count": null,
   "id": "4e6cdfab",
   "metadata": {},
   "outputs": [],
   "source": [
    "plt.rcParams.update({\n",
    "    'figure.figsize':    (6, 2), # figure size\n",
    "    'figure.facecolor':  (0.0, 0.0, 0.0, 0.0), # black with alpha = 0%\n",
    "    'axes.facecolor':    (0.0, 0.0, 0.0, 0.0), # black with alpha = 0%\n",
    "    'savefig.facecolor': (0.0, 0.0, 0.0, 0.0), # black  with alpha = 0%\n",
    "})"
   ]
  },
  {
   "cell_type": "code",
   "execution_count": null,
   "id": "f330532f",
   "metadata": {},
   "outputs": [],
   "source": [
    "# Carregar sinais\n",
    "with open('le07_datasets.npy', 'rb') as f:\n",
    "    # Challenge 1\n",
    "    signal1 = np.load(f) # sinal\n",
    "    n1 = np.load(f) # indices das amostras\n",
    "    \n",
    "    # Challenge 2\n",
    "    signal2 = np.load(f) # sinal\n",
    "    n2 = np.load(f) # indices das amostras\n",
    "    \n",
    "    # Challenge 3\n",
    "    signal3 = np.load(f) # sinal\n",
    "    n3 = np.load(f) # indices das amostras\n",
    "    \n",
    "    # Challenge 4\n",
    "    signal4 = np.load(f) # sinal\n",
    "    n4 = np.load(f) # indices das amostras\n",
    "    fs4 = np.load(f) # frequencia de amostragem"
   ]
  },
  {
   "cell_type": "markdown",
   "id": "5616bfc5",
   "metadata": {},
   "source": [
    "## Challenge 1 - Mystery signal\n",
    "No primeiro desafio aprenderemos a extrair informações de um sinal completamente desconhecido (não se tem conhecimento de qual é o fenômeno ou dinâmica existente por trás deste sinal).\n",
    "\n",
    "Para isso, iremos estudar a DFT e suas componentes constituintes para determinar um ***modelo aproximado do sinal***."
   ]
  },
  {
   "cell_type": "code",
   "execution_count": null,
   "id": "d87b80fa",
   "metadata": {},
   "outputs": [],
   "source": [
    "# Challenge 1\n",
    "# Plot\n",
    "fig, ax = plt.subplots()\n",
    "plt.plot(n1, signal1, 'r')\n",
    "plt.ylabel(r'$x[n]$')\n",
    "\n",
    "figureFormat(ax, fig)"
   ]
  },
  {
   "cell_type": "markdown",
   "id": "5997ae74",
   "metadata": {},
   "source": [
    "Uhm, a simples vista percebe-se um comportamento oscilatório no sinal.\n",
    "\n",
    "Então, comecemos olhando o espectro do sinal, especificamente, as suas componentes real e imaginária."
   ]
  },
  {
   "cell_type": "code",
   "execution_count": null,
   "id": "b331fb70",
   "metadata": {},
   "outputs": [],
   "source": [
    "# DFT\n",
    "X1 = ..."
   ]
  },
  {
   "cell_type": "code",
   "execution_count": null,
   "id": "b7b73ddc",
   "metadata": {},
   "outputs": [],
   "source": [
    "# Plot - Componente real\n",
    "fig, ax = plt.subplots()\n",
    "plt.plot(..., 'r')\n",
    "plt.ylabel(r'Re{$X_1$}')\n",
    "\n",
    "figureFormat(ax, fig)"
   ]
  },
  {
   "cell_type": "code",
   "execution_count": null,
   "id": "bae1946b",
   "metadata": {},
   "outputs": [],
   "source": [
    "# Plot - Componente imaginária\n",
    "fig, ax = plt.subplots()\n",
    "plt.plot(..., 'r')\n",
    "plt.ylabel(r'Im{$X_1$}')\n",
    "\n",
    "figureFormat(ax, fig)"
   ]
  },
  {
   "cell_type": "markdown",
   "id": "1714ed16",
   "metadata": {},
   "source": [
    "### Perguntas\n",
    "1. O que pode se interpretar a partir dos gráficos da DFT acima?\n",
    "2. Quais são as informações mais notórias que o sinal carrega?\n",
    "3. O que os picos no gráfico têm a dizer sobre o sinal?"
   ]
  },
  {
   "cell_type": "markdown",
   "id": "c5422a20",
   "metadata": {},
   "source": [
    "###  Opcional - Desafio para pensar\n",
    "Esboçe um algoritmo para calcular os picos no gráfico da DFT: $\\text{Re}\\{X_1\\}$"
   ]
  },
  {
   "cell_type": "code",
   "execution_count": null,
   "id": "98ef1b6e",
   "metadata": {},
   "outputs": [],
   "source": [
    "# Valores pico\n",
    "k1 = ... # <- Como poderia ser calculado automaticamente?\n",
    "k2 = ... # <- Como poderia ser calculado automaticamente?\n",
    "\n",
    "# Plot\n",
    "fig, ax = plt.subplots()\n",
    "plt.plot(n1, X1.real, 'r')\n",
    "plt.ylabel(r'Re{$X_1$}')\n",
    "\n",
    "# Highlight the key frequencies\n",
    "plt.scatter(n1[k1], X1.real[k1], s=200, facecolors='none', edgecolors='c', lw=1.5)\n",
    "plt.text(k1+35, X1.real.max()*.95, r'$k=$'+str(k1), color='lime')\n",
    "plt.scatter(n1[k2], X1.real[k2], s=200, facecolors='none', edgecolors='c', lw=1.5)\n",
    "plt.text(k2-160, X1.real.max()*.95, r'$k=$'+str(k2), color='lime')\n",
    "\n",
    "figureFormat(ax, fig)"
   ]
  },
  {
   "cell_type": "markdown",
   "id": "f0530aae",
   "metadata": {},
   "source": [
    "### Modelo de sinal\n",
    "A partir da sua observação, encontre uma possível expressão para o sinal:\n",
    "\n",
    "$$\n",
    "x_1[n] = A_1 \\cos(\\omega_1 n + \\phi_1) + \\eta_1[n]\n",
    "$$\n",
    "\n",
    "Parâmetros:\n",
    "- $A_1$: Amplitude do sinal\n",
    "- $\\omega_1$: Frequencia digital\n",
    "- $\\phi_1$: Fase\n",
    "- $\\eta_1$: Componente de ruído"
   ]
  },
  {
   "cell_type": "code",
   "execution_count": null,
   "id": "4eae5c17",
   "metadata": {},
   "outputs": [],
   "source": [
    "# Calculo da frequencia digital do sinal\n",
    "P1 = ... # Período\n",
    "omega1 = ... # Frequência digital\n",
    "\n",
    "# Modelo do sinal\n",
    "A1 = ... # amplitude\n",
    "phi1 = ... # fase\n",
    "osc1 = ... # Componente periódica\n",
    "ruido1 = ... # O que sobrar é ruído\n",
    "x1 = ... # Modelo completo do sinal\n",
    "\n",
    "fig, ax = plt.subplots(figsize=(15, 2))\n",
    "plt.plot(n1, osc1, 'r')\n",
    "plt.plot(n1, signal1, 'c')\n",
    "figureFormat(ax, fig)\n",
    "\n",
    "fig, ax = plt.subplots(figsize=(15, 2))\n",
    "plt.plot(n1, signal1, 'r')\n",
    "plt.plot(n1, x1, 'c')\n",
    "figureFormat(ax, fig)"
   ]
  },
  {
   "cell_type": "markdown",
   "id": "f68e48fa",
   "metadata": {},
   "source": [
    "###  Opcional - Autocorrelação\n",
    "Existe uma segunda forma de determinar o modelo de sinais periódicos a partir do gráfico do ***correlograma***, utilizando a [***autocorrelação***](https://en.wikipedia.org/wiki/Autocorrelation)."
   ]
  },
  {
   "cell_type": "code",
   "execution_count": null,
   "id": "6be7c873",
   "metadata": {},
   "outputs": [],
   "source": [
    "# Sua solucao aqui"
   ]
  },
  {
   "cell_type": "markdown",
   "id": "03f113b6",
   "metadata": {},
   "source": [
    "## Challenge 2 - Solar spots\n",
    "Neste desafio aprenderemos a determinar o período do ciclo solar a partir de observações mensais da radiação do sol."
   ]
  },
  {
   "cell_type": "code",
   "execution_count": null,
   "id": "6ad9158d",
   "metadata": {},
   "outputs": [],
   "source": [
    "N2 = len(signal2) # Comprimento do sinal\n",
    "\n",
    "# Horizonte de observação\n",
    "yearFrom = n2[0].astype('datetime64[Y]').astype(int) + 1970\n",
    "yearTo = n2[-1].astype('datetime64[Y]').astype(int) + 1970"
   ]
  },
  {
   "cell_type": "code",
   "execution_count": null,
   "id": "e6461b4c",
   "metadata": {},
   "outputs": [],
   "source": [
    "fig, ax = plt.subplots()\n",
    "plt.plot(n2, signal2, 'r')\n",
    "plt.xlabel('year')\n",
    "plt.title('Monthly solar spot activity, %i to %i' % (yearFrom, yearTo))\n",
    "figureFormat(ax, fig)"
   ]
  },
  {
   "cell_type": "markdown",
   "id": "f8b6a628",
   "metadata": {},
   "source": [
    "Desta vez, começaremos diretamente a nossa análise a partir da magnitude do espectro do sinal\n",
    "\n",
    "- Por quê?"
   ]
  },
  {
   "cell_type": "code",
   "execution_count": null,
   "id": "2d78f60a",
   "metadata": {},
   "outputs": [],
   "source": [
    "# DFT\n",
    "X2 = ...\n",
    "\n",
    "# Magnitude da DFT\n",
    "X2mag = ...\n",
    "\n",
    "# Vetor de amostras (facilita achar o índice do valor pico)\n",
    "nn2 = np.arange(len(n2))"
   ]
  },
  {
   "cell_type": "code",
   "execution_count": null,
   "id": "69db213a",
   "metadata": {},
   "outputs": [],
   "source": [
    "# Plot\n",
    "fig, ax = plt.subplots()\n",
    "plt.plot(nn2, X2mag, 'r')\n",
    "figureFormat(ax, fig)"
   ]
  },
  {
   "cell_type": "markdown",
   "id": "c41a5058",
   "metadata": {},
   "source": [
    "Observe que:\n",
    "\n",
    "1. Aproximadamente, a partir de uma certa amostra em diante, a magnitude do espectro se torna desprezível.\n",
    "\n",
    "Portanto, podemos limitar a saída do gráfico no eixo horizontal para uma melhor análise do valor pico.\n",
    "\n",
    "Qual é essa amostra?\n",
    "\n",
    "2. A frequencia zero do sinal carrega um valor muito alto.\n",
    "\n",
    "Assim, podemos limitar os valores no eixo vertical para visualizar melhor o pico relevante.\n",
    "\n",
    "\n",
    "- A partir de ambas observações, plote o espectro do sinal num gráfico novo e determine o índice do valor pico mais relevante."
   ]
  },
  {
   "cell_type": "code",
   "execution_count": null,
   "id": "6cc86c96",
   "metadata": {},
   "outputs": [],
   "source": [
    "# Plot\n",
    "fig, ax = plt.subplots()\n",
    "plt.plot(nn2, X2mag, 'r')\n",
    "\n",
    "figureFormat(ax, fig)"
   ]
  },
  {
   "cell_type": "code",
   "execution_count": null,
   "id": "9d5c3bac",
   "metadata": {},
   "outputs": [],
   "source": [
    "# Valor pico\n",
    "k = ... # <- Que possibilidades temos de encontrá-lo de maneira automática? :)"
   ]
  },
  {
   "cell_type": "code",
   "execution_count": null,
   "id": "c1543b49",
   "metadata": {},
   "outputs": [],
   "source": [
    "# Plot\n",
    "fig, ax = plt.subplots()\n",
    "plt.plot(nn2, X2mag, 'r')\n",
    "plt.scatter(nn2[k], X2mag[k], s=200, facecolors='none', edgecolors='c', lw=1.5)\n",
    "plt.text(k+5, X2mag.max()/3.8, r'main peak at $k=$'+str(k), color='lime')\n",
    "\n",
    "figureFormat(ax, fig)"
   ]
  },
  {
   "cell_type": "markdown",
   "id": "4080ecee",
   "metadata": {},
   "source": [
    "Agora sim, o câlculo da periodicidade do ciclo solar (em unidade de anos) se torna uma tarefa trivial :)"
   ]
  },
  {
   "cell_type": "code",
   "execution_count": null,
   "id": "93cb994c",
   "metadata": {},
   "outputs": [],
   "source": [
    "P2m = ... # Período em meses\n",
    "P2 = ... # Período em anos"
   ]
  },
  {
   "cell_type": "code",
   "execution_count": null,
   "id": "ca56740f",
   "metadata": {},
   "outputs": [],
   "source": [
    "print('O período do ciclo solar é de aproximadamente %.f anos' % np.around(P2))"
   ]
  },
  {
   "cell_type": "markdown",
   "id": "b2edd81f",
   "metadata": {},
   "source": [
    "## Challenge 3 - Daily temperature\n",
    "Neste desafio aprenderemos a extrair o período de um sinal de temperatura (por exemplo, da cidade de Goiânia) a partir de medições do termômetro ao longo de vários dias.\n",
    "\n",
    "Além disso, conseguiremos estimar o modelo do sinal, assim como seus valores médio, máximo e mínimo (*a.k.a.*, ***temperature excursion***)."
   ]
  },
  {
   "cell_type": "code",
   "execution_count": null,
   "id": "24077d8d",
   "metadata": {},
   "outputs": [],
   "source": [
    "fig, ax = plt.subplots()\n",
    "plt.plot(n3, signal3, 'r')\n",
    "plt.ylabel('ºC')\n",
    "plt.xlabel('days')\n",
    "\n",
    "# Mostrar eixo horizontal\n",
    "ax.axhline(y=0, color='lime', lw=.5)\n",
    "\n",
    "figureFormat(ax, fig)"
   ]
  },
  {
   "cell_type": "markdown",
   "id": "fc54fcf2",
   "metadata": {},
   "source": [
    "Notoriamente, o gráfico do sinal apresenta muitos dados (ele aparece como se fosse uma linha grossa).\n",
    "\n",
    "Apenas para propósitos de visualização, podemos tornar o gráfico um pouco mais \"limpo\" fazendo um recorte do sinal.\n",
    "\n",
    "Faça um recorte do sinal experimentando com diferentes valores de `taxa_recorte`."
   ]
  },
  {
   "cell_type": "code",
   "execution_count": null,
   "id": "1270d31c",
   "metadata": {},
   "outputs": [],
   "source": [
    "taxa_recorte = ...\n",
    "\n",
    "fig, ax = plt.subplots()\n",
    "plt.plot(..., 'r')\n",
    "plt.ylabel('ºC')\n",
    "plt.xlabel('days')\n",
    "\n",
    "# Mostrar eixo horizontal\n",
    "ax.axhline(y=0, color='lime', lw=.5)\n",
    "\n",
    "figureFormat(ax, fig)"
   ]
  },
  {
   "cell_type": "markdown",
   "id": "703f0aa6",
   "metadata": {},
   "source": [
    "A partir da observação do sinal, podemos deduzir o seu modelo aproximado de sinal partindo de uma oscilação:\n",
    "\n",
    "$$\n",
    "x_3[n] = A_3 \\cos(\\omega_3 n + \\phi_3)\n",
    "$$\n",
    "\n",
    "Parâmetros:\n",
    "- $A_3$: Amplitude do sinal\n",
    "- $\\omega_3$: Frequencia digital\n",
    "- $\\phi_3$: Fase\n",
    "\n",
    "Pela nossa intuição já desenvolvida ao longo da disciplina com este tipo de sinais oscilatórios e periódicos, a nossa ferramenta inicial de análise será a DFT.\n",
    "\n",
    "Especicamente, a magnitude da DFT!"
   ]
  },
  {
   "cell_type": "code",
   "execution_count": null,
   "id": "5b5976d1",
   "metadata": {},
   "outputs": [],
   "source": [
    "# DFT\n",
    "X3 = ...\n",
    "\n",
    "# Magnitude\n",
    "X3mag = ..."
   ]
  },
  {
   "cell_type": "code",
   "execution_count": null,
   "id": "447486eb",
   "metadata": {},
   "outputs": [],
   "source": [
    "# Plot\n",
    "fig, ax = plt.subplots()\n",
    "plt.plot(n3, X3mag, 'r')\n",
    "plt.ylabel(r'$|X_3|$')\n",
    "\n",
    "figureFormat(ax, fig)"
   ]
  },
  {
   "cell_type": "markdown",
   "id": "e5ed7892",
   "metadata": {},
   "source": [
    "Para obter um gráfico de espectro \"mais informativo\", vamos precisar **normalizar** a saída\n",
    "para assim obter dados na mesma unidade do sinal de entrada, no nosso caso, em graus Celsius"
   ]
  },
  {
   "cell_type": "code",
   "execution_count": null,
   "id": "10cbf620",
   "metadata": {},
   "outputs": [],
   "source": [
    "# Espectro normalizado\n",
    "X3magn = ..."
   ]
  },
  {
   "cell_type": "code",
   "execution_count": null,
   "id": "7d2ed00f",
   "metadata": {},
   "outputs": [],
   "source": [
    "# Plot\n",
    "fig, ax = plt.subplots()\n",
    "plt.plot(n3, X3magn, 'r')\n",
    "plt.ylabel(r'$|X_3| / N$ (ºC)')\n",
    "\n",
    "figureFormat(ax, fig)"
   ]
  },
  {
   "cell_type": "markdown",
   "id": "4d20ed0f",
   "metadata": {},
   "source": [
    "Agora sim, as unidades do eixo vertical são diretamente compatíveis com valores de temperatura :)\n",
    "\n",
    "Como segundo passo, vamos delimitar os eixos para uma melhor observação e análise dos valores pico."
   ]
  },
  {
   "cell_type": "code",
   "execution_count": null,
   "id": "f8e65069",
   "metadata": {},
   "outputs": [],
   "source": [
    "# Plot recortado\n",
    "fig, ax = plt.subplots()\n",
    "plt.plot(n3, X3magn, 'r')\n",
    "plt.ylabel(r'$|X_3| / N$ (ºC)')\n",
    "plt.xlim(...)\n",
    "\n",
    "figureFormat(ax, fig)"
   ]
  },
  {
   "cell_type": "markdown",
   "id": "81b60b8e",
   "metadata": {},
   "source": [
    "A partir da gráfica do espectro normalizado, é possível determinar a **temperatura média**,\n",
    "a qual é dada pela \"frequência zero\" ($k_{\\text{DC}} = 0$):\n",
    "\n",
    "$$\n",
    "\\frac{1}{N} X_3[0] = \\frac{1}{N} \\sum_{n=0}^{N-1} x[n] \\cdot e^{-j\\frac{2\\pi}{N} \\cdot n \\cdot 0} \\\\\n",
    "           = \\frac{1}{N} \\sum_{n=0}^{N-1} x[n]\n",
    "$$\n",
    "\n",
    "A \"frequência zero\" também é conhecida como:\n",
    "- *offset*\n",
    "- *bias* (componente contínuo do sinal)\n",
    "- \"*valor DC*\""
   ]
  },
  {
   "cell_type": "code",
   "execution_count": null,
   "id": "ca5ea189",
   "metadata": {},
   "outputs": [],
   "source": [
    "temp_media = ... # temperatura media"
   ]
  },
  {
   "cell_type": "code",
   "execution_count": null,
   "id": "65f5f835",
   "metadata": {},
   "outputs": [],
   "source": [
    "# Figure 3\n",
    "fig, ax = plt.subplots()\n",
    "plt.plot(n3, X3magn, 'r')\n",
    "plt.scatter(n3[0], temp_media, s=200, facecolors='none', edgecolors='y', lw=1.5)\n",
    "plt.text(2, X3magn.max()*.94, r'temp. média %.2f ºC' %(np.round(X3magn.max(),1)), color='lime')\n",
    "plt.ylabel('ºC')\n",
    "plt.xlim(...)\n",
    "# Customizing the y-axis upper limit\n",
    "ax.set_ylim(top=X3magn.max()*1.1)\n",
    "\n",
    "figureFormat(ax, fig)"
   ]
  },
  {
   "cell_type": "markdown",
   "id": "663f2b99",
   "metadata": {},
   "source": [
    "Além disso, precisamos lembrar que o valor do espectro normalizado no pico, em $k = ?$, guarda relação com a amplitude do sinal oscilatório:\n",
    "\n",
    "$$\n",
    "X_3[k_{\\text{pico}}] = \\frac{A_3}{2}\n",
    "$$\n",
    "\n",
    "Portanto, o valor da amplitude será:\n",
    "\n",
    "$$\n",
    "A_3 = 2 X_3[k_{\\text{pico}}]\n",
    "$$"
   ]
  },
  {
   "cell_type": "code",
   "execution_count": null,
   "id": "e56451e6",
   "metadata": {},
   "outputs": [],
   "source": [
    "k = ... # Valor pico\n",
    "A3 = ... # Amplitude do sinal (em graus Celsius)\n",
    "print(r'O valor do espectro normalizado da DFT em k = %i é %.1f ºC e a amplitude do sinal é %.1f ºC' % (k, X3magn[k], A3))"
   ]
  },
  {
   "cell_type": "code",
   "execution_count": null,
   "id": "dffbcc97",
   "metadata": {},
   "outputs": [],
   "source": [
    "# Figure 3\n",
    "fig, ax = plt.subplots()\n",
    "plt.plot(n3, X3magn, 'r')\n",
    "plt.scatter(n3[0], temp_media, s=200, facecolors='none', edgecolors='y', lw=1.5)\n",
    "plt.text(2, .95*X3magn.max(), r'temp. média %.2f ºC' %(np.round(X3magn.max(),1)), color='lime')\n",
    "plt.scatter(n3[k], X3magn[k], s=200, facecolors='none', edgecolors='c', lw=1.5)\n",
    "plt.text(k+2, X3magn.max() // 2, r'pico principal em $k = %i$' %(k), color='lime')\n",
    "plt.ylabel('ºC')\n",
    "plt.xlim(...)\n",
    "# Customizing the y-axis upper limit\n",
    "ax.set_ylim(top=X3magn.max()*1.1)\n",
    "\n",
    "figureFormat(ax, fig)"
   ]
  },
  {
   "cell_type": "code",
   "execution_count": null,
   "id": "7beb821d",
   "metadata": {},
   "outputs": [],
   "source": [
    "# Periodo do sinal\n",
    "P3 = ... # em dias\n",
    "\n",
    "# Temperature excursion (Variabilidade)\n",
    "# -------------------------------------\n",
    "temp_maxima = temp_media + A3\n",
    "temp_minima = temp_media - A3\n",
    "\n",
    "print(r'Temperatura média: %.1f ºC' % temp_media)\n",
    "print(r'Temperatura máxima: %.1f ºC' % temp_maxima)\n",
    "print(r'Temperatura mínima: %.1f ºC' % temp_minima)\n",
    "print(r'Periodicidade do sinal: %i dias (faz total sentido!!!)' % P3)\n",
    "print(r'Limites de temperatura: %.1f ºC ± %.1f ºC' %(temp_media, A3))"
   ]
  },
  {
   "cell_type": "code",
   "execution_count": null,
   "id": "56039ba2",
   "metadata": {},
   "outputs": [],
   "source": []
  },
  {
   "cell_type": "code",
   "execution_count": null,
   "id": "c40d810b",
   "metadata": {},
   "outputs": [],
   "source": []
  }
 ],
 "metadata": {
  "kernelspec": {
   "display_name": "Python 3 (ipykernel)",
   "language": "python",
   "name": "python3"
  },
  "language_info": {
   "codemirror_mode": {
    "name": "ipython",
    "version": 3
   },
   "file_extension": ".py",
   "mimetype": "text/x-python",
   "name": "python",
   "nbconvert_exporter": "python",
   "pygments_lexer": "ipython3",
   "version": "3.10.6"
  }
 },
 "nbformat": 4,
 "nbformat_minor": 5
}
